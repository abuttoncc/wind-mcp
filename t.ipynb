{
 "cells": [
  {
   "cell_type": "code",
   "execution_count": null,
   "metadata": {
    "vscode": {
     "languageId": "plaintext"
    }
   },
   "outputs": [],
   "source": [
    "from WindPy import w\n",
    "\n",
    "def query_hk_close(code=\"1810.HK\", date=\"2024-05-31\"):\n",
    "    \"\"\"\n",
    "    查询指定港股在指定日期的收盘价\n",
    "    :param code: 股票代码，如 '1810.HK'\n",
    "    :param date: 查询日期，格式 'YYYY-MM-DD' 或 'YYYYMMDD'\n",
    "    :return: WindPy 返回结果对象\n",
    "    \"\"\"\n",
    "    # 启动Wind API\n",
    "    w.start()\n",
    "    if not w.isconnected():\n",
    "        print(\"Wind API未连接，请检查Wind终端登录状态\")\n",
    "        return None\n",
    "\n",
    "    # 查询收盘价\n",
    "    result = w.wsd(code, \"CLOSE\", date, date)\n",
    "    print(\"ErrorCode:\", result.ErrorCode)\n",
    "    print(\"Codes:\", result.Codes)\n",
    "    print(\"Fields:\", result.Fields)\n",
    "    print(\"Times:\", result.Times)\n",
    "    print(\"Data:\", result.Data)\n",
    "    return result\n",
    "\n",
    "# 示例调用\n",
    "if __name__ == \"__main__\":\n",
    "    query_hk_close(\"1810.HK\", \"2024-05-31\")"
   ]
  }
 ],
 "metadata": {
  "language_info": {
   "name": "python"
  }
 },
 "nbformat": 4,
 "nbformat_minor": 2
}
